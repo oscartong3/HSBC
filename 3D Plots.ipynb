{
 "cells": [
  {
   "cell_type": "code",
   "execution_count": 6,
   "metadata": {},
   "outputs": [],
   "source": [
    "import plotly \n",
    "plotly.tools.set_credentials_file(username='saikt3', api_key='djHLW9i22srGSI0wMkVj')"
   ]
  },
  {
   "cell_type": "code",
   "execution_count": 4,
   "metadata": {},
   "outputs": [],
   "source": [
    "import plotly.plotly as py\n",
    "import plotly.graph_objs as go\n",
    "import pandas as pd\n",
    "import numpy as np"
   ]
  },
  {
   "cell_type": "code",
   "execution_count": 8,
   "metadata": {},
   "outputs": [],
   "source": [
    "impact_score = pd.read_excel('abnormal financial change fangyi.xlsx',sheet_name = 'abnormal changes')"
   ]
  },
  {
   "cell_type": "code",
   "execution_count": 18,
   "metadata": {},
   "outputs": [
    {
     "data": {
      "text/html": [
       "<div>\n",
       "<style scoped>\n",
       "    .dataframe tbody tr th:only-of-type {\n",
       "        vertical-align: middle;\n",
       "    }\n",
       "\n",
       "    .dataframe tbody tr th {\n",
       "        vertical-align: top;\n",
       "    }\n",
       "\n",
       "    .dataframe thead th {\n",
       "        text-align: right;\n",
       "    }\n",
       "</style>\n",
       "<table border=\"1\" class=\"dataframe\">\n",
       "  <thead>\n",
       "    <tr style=\"text-align: right;\">\n",
       "      <th></th>\n",
       "      <th>Tickers</th>\n",
       "      <th>Company Name</th>\n",
       "      <th>Country_Group</th>\n",
       "      <th>GICS SubInd Name</th>\n",
       "      <th>Cash_abn</th>\n",
       "      <th>Inventories_abn</th>\n",
       "      <th>d_e_ratio_abn</th>\n",
       "      <th>End Date</th>\n",
       "      <th>number of countries</th>\n",
       "      <th>Borrow Need</th>\n",
       "      <th>Risk Score</th>\n",
       "      <th>FX Need</th>\n",
       "    </tr>\n",
       "  </thead>\n",
       "  <tbody>\n",
       "    <tr>\n",
       "      <th>0</th>\n",
       "      <td>000009 CH Equity</td>\n",
       "      <td>China Baoan Group Co Ltd</td>\n",
       "      <td>CN</td>\n",
       "      <td>Industrial Conglomerates</td>\n",
       "      <td>0.175885</td>\n",
       "      <td>0.056663</td>\n",
       "      <td>0.109577</td>\n",
       "      <td>2018-06-30</td>\n",
       "      <td>NaN</td>\n",
       "      <td>0.500990</td>\n",
       "      <td>0.277276</td>\n",
       "      <td>NaN</td>\n",
       "    </tr>\n",
       "    <tr>\n",
       "      <th>1</th>\n",
       "      <td>000009 CH Equity</td>\n",
       "      <td>China Baoan Group Co Ltd</td>\n",
       "      <td>CN</td>\n",
       "      <td>Industrial Conglomerates</td>\n",
       "      <td>-0.047979</td>\n",
       "      <td>0.109201</td>\n",
       "      <td>0.178509</td>\n",
       "      <td>2018-09-30</td>\n",
       "      <td>NaN</td>\n",
       "      <td>0.580563</td>\n",
       "      <td>0.305430</td>\n",
       "      <td>NaN</td>\n",
       "    </tr>\n",
       "    <tr>\n",
       "      <th>2</th>\n",
       "      <td>000009 CH Equity</td>\n",
       "      <td>China Baoan Group Co Ltd</td>\n",
       "      <td>CN</td>\n",
       "      <td>Industrial Conglomerates</td>\n",
       "      <td>0.201656</td>\n",
       "      <td>0.038853</td>\n",
       "      <td>0.079073</td>\n",
       "      <td>2018-12-31</td>\n",
       "      <td>NaN</td>\n",
       "      <td>0.488443</td>\n",
       "      <td>0.264818</td>\n",
       "      <td>NaN</td>\n",
       "    </tr>\n",
       "    <tr>\n",
       "      <th>3</th>\n",
       "      <td>000009 CH Equity</td>\n",
       "      <td>China Baoan Group Co Ltd</td>\n",
       "      <td>CN</td>\n",
       "      <td>Industrial Conglomerates</td>\n",
       "      <td>0.387058</td>\n",
       "      <td>0.271036</td>\n",
       "      <td>0.101387</td>\n",
       "      <td>2019-03-31</td>\n",
       "      <td>NaN</td>\n",
       "      <td>0.501911</td>\n",
       "      <td>0.273932</td>\n",
       "      <td>NaN</td>\n",
       "    </tr>\n",
       "    <tr>\n",
       "      <th>4</th>\n",
       "      <td>000120 KS Equity</td>\n",
       "      <td>CJ Logistics Corp</td>\n",
       "      <td>Other</td>\n",
       "      <td>Trucking</td>\n",
       "      <td>-0.143145</td>\n",
       "      <td>0.960104</td>\n",
       "      <td>0.186493</td>\n",
       "      <td>2018-06-30</td>\n",
       "      <td>3.0</td>\n",
       "      <td>0.852924</td>\n",
       "      <td>0.308690</td>\n",
       "      <td>0.008621</td>\n",
       "    </tr>\n",
       "  </tbody>\n",
       "</table>\n",
       "</div>"
      ],
      "text/plain": [
       "            Tickers              Company Name Country_Group  \\\n",
       "0  000009 CH Equity  China Baoan Group Co Ltd            CN   \n",
       "1  000009 CH Equity  China Baoan Group Co Ltd            CN   \n",
       "2  000009 CH Equity  China Baoan Group Co Ltd            CN   \n",
       "3  000009 CH Equity  China Baoan Group Co Ltd            CN   \n",
       "4  000120 KS Equity         CJ Logistics Corp         Other   \n",
       "\n",
       "           GICS SubInd Name  Cash_abn  Inventories_abn  d_e_ratio_abn  \\\n",
       "0  Industrial Conglomerates  0.175885         0.056663       0.109577   \n",
       "1  Industrial Conglomerates -0.047979         0.109201       0.178509   \n",
       "2  Industrial Conglomerates  0.201656         0.038853       0.079073   \n",
       "3  Industrial Conglomerates  0.387058         0.271036       0.101387   \n",
       "4                  Trucking -0.143145         0.960104       0.186493   \n",
       "\n",
       "    End Date  number of countries  Borrow Need  Risk Score   FX Need  \n",
       "0 2018-06-30                  NaN     0.500990    0.277276       NaN  \n",
       "1 2018-09-30                  NaN     0.580563    0.305430       NaN  \n",
       "2 2018-12-31                  NaN     0.488443    0.264818       NaN  \n",
       "3 2019-03-31                  NaN     0.501911    0.273932       NaN  \n",
       "4 2018-06-30                  3.0     0.852924    0.308690  0.008621  "
      ]
     },
     "execution_count": 18,
     "metadata": {},
     "output_type": "execute_result"
    }
   ],
   "source": [
    "impact_score.head()"
   ]
  },
  {
   "cell_type": "code",
   "execution_count": 60,
   "metadata": {},
   "outputs": [],
   "source": [
    "impact2 = impact_score[impact_score['End Date']==pd.to_datetime('2019-03-31')]"
   ]
  },
  {
   "cell_type": "code",
   "execution_count": 61,
   "metadata": {},
   "outputs": [],
   "source": [
    "x = impact2['Borrow Need'].fillna(0)\n",
    "z = impact2['Risk Score'].fillna(0)\n",
    "y = impact2['FX Need'].fillna(0)\n",
    "Total = np.sqrt(x**2+y**2+(1-z)**2)"
   ]
  },
  {
   "cell_type": "code",
   "execution_count": 67,
   "metadata": {},
   "outputs": [],
   "source": [
    "info = []\n",
    "for i in range(len(impact2)):\n",
    "    info.append('Name: '+impact2.iloc[i,1]+'\\nBorrow Need: '+np.str(impact2.iloc[i,9])\n",
    "               +'\\nFX Need: '+np.str(impact2.iloc[i,11])+'\\nRisk Score: '+np.str(impact2.iloc[i,10]))"
   ]
  },
  {
   "cell_type": "code",
   "execution_count": 58,
   "metadata": {},
   "outputs": [
    {
     "name": "stdout",
     "output_type": "stream",
     "text": [
      "Name: China Baoan Group Co Ltd\n",
      "Date: 2018-06-30 00:00:00\n",
      "Borrow Need: 0.5009899968921547\n",
      "FX Need: nan\n",
      "Risk Score: 0.2772762392489528\n"
     ]
    }
   ],
   "source": [
    "print(info[0])\n"
   ]
  },
  {
   "cell_type": "code",
   "execution_count": 68,
   "metadata": {},
   "outputs": [
    {
     "name": "stdout",
     "output_type": "stream",
     "text": [
      "High five! You successfully sent some data to your account on plotly. View your plot in your browser at https://plot.ly/~saikt3/0 or inside your plot.ly account where it is named '3d-scatter-colorscale'\n"
     ]
    },
    {
     "data": {
      "text/html": [
       "<iframe id=\"igraph\" scrolling=\"no\" style=\"border:none;\" seamless=\"seamless\" src=\"https://plot.ly/~saikt3/0.embed\" height=\"525px\" width=\"100%\"></iframe>"
      ],
      "text/plain": [
       "<chart_studio.tools.PlotlyDisplay object>"
      ]
     },
     "execution_count": 68,
     "metadata": {},
     "output_type": "execute_result"
    }
   ],
   "source": [
    "\n",
    "trace1 = go.Scatter3d(\n",
    "    x=x,\n",
    "    y=y,\n",
    "    z=z,\n",
    "    text = info,\n",
    "    hoverinfo ='text',\n",
    "    mode='markers',\n",
    "    marker=dict(\n",
    "        size=5,\n",
    "        color=Total,                # set color to an array/list of desired values\n",
    "        colorscale='Viridis',   # choose a colorscale\n",
    "        opacity=0.7,\n",
    "        showscale= True,\n",
    "        reversescale= True\n",
    "    )\n",
    ")\n",
    "\n",
    "data = [trace1]\n",
    "layout = go.Layout(\n",
    "    scene=dict(\n",
    "        xaxis = dict(\n",
    "                title='Borrow Need'),\n",
    "        yaxis = dict(\n",
    "                title='FX Need'),\n",
    "        zaxis = dict(\n",
    "                title='Risk Score'),),\n",
    "    margin=dict(\n",
    "        l=0,\n",
    "        r=0,\n",
    "        b=0,\n",
    "        t=0\n",
    "    )\n",
    ")\n",
    "fig = go.Figure(data=data, layout=layout)\n",
    "py.iplot(fig, filename='3d-scatter-colorscale')"
   ]
  },
  {
   "cell_type": "code",
   "execution_count": null,
   "metadata": {},
   "outputs": [],
   "source": []
  }
 ],
 "metadata": {
  "kernelspec": {
   "display_name": "Python 3",
   "language": "python",
   "name": "python3"
  },
  "language_info": {
   "codemirror_mode": {
    "name": "ipython",
    "version": 3
   },
   "file_extension": ".py",
   "mimetype": "text/x-python",
   "name": "python",
   "nbconvert_exporter": "python",
   "pygments_lexer": "ipython3",
   "version": "3.7.1"
  }
 },
 "nbformat": 4,
 "nbformat_minor": 2
}
